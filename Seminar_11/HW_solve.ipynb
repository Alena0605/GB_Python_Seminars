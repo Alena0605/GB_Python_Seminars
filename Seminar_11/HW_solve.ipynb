{
 "cells": [
  {
   "cell_type": "code",
   "execution_count": 1,
   "id": "486cc0b9",
   "metadata": {},
   "outputs": [
    {
     "data": {
      "text/latex": [
       "$\\displaystyle \\frac{x^{2} + 3}{3 x + 3}$"
      ],
      "text/plain": [
       "(x**2 + 3)/(3*x + 3)"
      ]
     },
     "execution_count": 1,
     "metadata": {},
     "output_type": "execute_result"
    }
   ],
   "source": [
    "from sympy import *\n",
    "from sympy.plotting import plot\n",
    "\n",
    "x = Symbol('x')\n",
    "\n",
    "# lesson function\n",
    "# f = 5 * x ** 2 + 10 * x - 30\n",
    "\n",
    "# homework functions\n",
    "# f = -18 * x ** 3 + 5 * x ** 2 + 10 * x - 30\n",
    "# f = 2 * x ** 3 + 2 * x ** 2 - 18 * x - 18\n",
    "f = (x ** 2 + 3) / (3 * (x + 1))\n",
    "\n",
    "# f = -12 * x ** 4 * sin(cos(x)) - 18 * x ** 3 + 5 * x ** 2 + 10 * x - 30\n",
    "# f = 3 * x ** 4 - 16 * x ** 3 + 24 * x ** 2 - 11\n",
    "\n",
    "f"
   ]
  },
  {
   "cell_type": "markdown",
   "id": "e54d06c4",
   "metadata": {},
   "source": [
    "### 1. Определить корни\n",
    "**Нули функции**"
   ]
  },
  {
   "cell_type": "code",
   "execution_count": 2,
   "id": "450f6ad9",
   "metadata": {},
   "outputs": [
    {
     "data": {
      "text/latex": [
       "$\\displaystyle \\emptyset$"
      ],
      "text/plain": [
       "EmptySet"
      ]
     },
     "execution_count": 2,
     "metadata": {},
     "output_type": "execute_result"
    }
   ],
   "source": [
    "# evalf(x) - x это количество знаков после запятой. \n",
    "# Если в скобках ничего не указать, вернется полное значение.\n",
    "solveset(f, x , Reals).evalf(2)"
   ]
  },
  {
   "cell_type": "markdown",
   "id": "118f6805",
   "metadata": {},
   "source": [
    "### 2. Найти интервалы, на которых функция возрастает\n",
    "### 3. Найти интервалы, на которых функция убывает"
   ]
  },
  {
   "cell_type": "code",
   "execution_count": 3,
   "id": "594f1369",
   "metadata": {},
   "outputs": [
    {
     "name": "stdout",
     "output_type": "stream",
     "text": [
      "Убывает на интервалах:\n",
      "[-3.0, 1.0]\n",
      "Возрастает на интервалах:\n",
      "[-oo, -3.0]\n",
      "[1.0, oo]\n"
     ]
    }
   ],
   "source": [
    "f_diff = [-oo, oo]\n",
    "f_diff[1:1] = solveset(diff(f), x, Reals).evalf(2)\n",
    "\n",
    "incr_list = []\n",
    "decr_list = []\n",
    "\n",
    "for i in range(1, len(f_diff)):\n",
    "    val = is_increasing(f, Interval.open(f_diff[i - 1], f_diff[i]))\n",
    "    if val:\n",
    "        incr_list.append(f\"[{f_diff[i - 1]}, {f_diff[i]}]\")\n",
    "    else:\n",
    "        decr_list.append(f\"[{f_diff[i - 1]}, {f_diff[i]}]\")\n",
    "\n",
    "print(f\"Убывает на интервалах:\", *decr_list, sep='\\n')\n",
    "print(f\"Возрастает на интервалах:\", *incr_list, sep='\\n')"
   ]
  },
  {
   "cell_type": "markdown",
   "id": "22c7209a",
   "metadata": {},
   "source": [
    "### 4. Построить график"
   ]
  },
  {
   "cell_type": "code",
   "execution_count": 4,
   "id": "40ae2048",
   "metadata": {},
   "outputs": [
    {
     "data": {
      "image/png": "[encoded data removed]",
      "text/plain": [
       "<Figure size 432x288 with 1 Axes>"
      ]
     },
     "metadata": {
      "needs_background": "light"
     },
     "output_type": "display_data"
    }
   ],
   "source": [
    "# 1\n",
    "# plot(f, (x, -1.2, 1), legend=True)\n",
    "\n",
    "# 2 \n",
    "# plot(f, (x, -4, 4), legend=True)\n",
    "\n",
    "# 3\n",
    "# plot(f, (x, -4, 3), ylim=(-5, 5), legend=True)\n",
    "\n",
    "f_1 = plot(f, (x, -5, -1.1), show=False)\n",
    "f_2 = plot(f, (x, -0.9, 5), show=False)\n",
    "f_1.append(f_2[0])\n",
    "f_1.show()\n",
    "\n",
    "# plot(f, (x, -1, 1.2), legend=True)\n",
    "# plot(f, (x, -4, 7), legend=True)\n",
    "# plot(f, (x, -10, 10), legend=True)"
   ]
  },
  {
   "cell_type": "markdown",
   "id": "a91a0a0b",
   "metadata": {},
   "source": [
    "### 5. Вычислить вершину\n",
    "**Экстремумы функции**"
   ]
  },
  {
   "cell_type": "code",
   "execution_count": 5,
   "id": "6f82efd1",
   "metadata": {},
   "outputs": [
    {
     "name": "stdout",
     "output_type": "stream",
     "text": [
      "Точка максимума: -3.0, -2.0\n",
      "Точка минимума: 1.0, 0.67\n"
     ]
    }
   ],
   "source": [
    "from random import uniform\n",
    "\n",
    "f_diff = sorted(solveset(diff(f), x, Reals).evalf(2))\n",
    "f_diff.insert(0, f_diff[0] - 1)\n",
    "f_1 = diff(f)\n",
    "\n",
    "ext_list = []\n",
    "\n",
    "for i, val in enumerate(f_diff):\n",
    "    ext_list.append(f_1.subs(x, uniform(val, f_diff[i] + 1)))\n",
    "    if i != 0:\n",
    "        if ext_list[i - 1] < 0 < ext_list[i]:\n",
    "            print(f\"Точка минимума: {val}, {f.subs(x, val).evalf(2)}\")\n",
    "        elif ext_list[i - 1] > 0 > ext_list[i]:\n",
    "            print(f\"Точка максимума: {val}, {f.subs(x, val).evalf(2)}\")"
   ]
  },
  {
   "cell_type": "markdown",
   "id": "471ce495",
   "metadata": {},
   "source": [
    "### 6. Определить промежутки, на которых f > 0\n",
    "### 7. Определить промежутки, на которых f < 0"
   ]
  },
  {
   "cell_type": "markdown",
   "id": "69aaf230",
   "metadata": {},
   "source": [
    "**Промежутки знакопостоянства**"
   ]
  },
  {
   "cell_type": "code",
   "execution_count": 6,
   "id": "b4e00737",
   "metadata": {},
   "outputs": [
    {
     "name": "stdout",
     "output_type": "stream",
     "text": [
      "f > 0:"
     ]
    },
    {
     "data": {
      "text/latex": [
       "$\\displaystyle \\left(-1.0, \\infty\\right)$"
      ],
      "text/plain": [
       "Interval.open(-1.0, oo)"
      ]
     },
     "execution_count": 6,
     "metadata": {},
     "output_type": "execute_result"
    }
   ],
   "source": [
    "print(\"f > 0:\", end='')\n",
    "solveset(f > 0, x, Reals).evalf(2)"
   ]
  },
  {
   "cell_type": "code",
   "execution_count": 7,
   "id": "3ee7b742",
   "metadata": {},
   "outputs": [
    {
     "name": "stdout",
     "output_type": "stream",
     "text": [
      "f < 0:"
     ]
    },
    {
     "data": {
      "text/latex": [
       "$\\displaystyle \\left(-\\infty, -1.0\\right)$"
      ],
      "text/plain": [
       "Interval.open(-oo, -1.0)"
      ]
     },
     "execution_count": 7,
     "metadata": {},
     "output_type": "execute_result"
    }
   ],
   "source": [
    "print(\"f < 0:\", end='')\n",
    "solveset(f < 0, x, Reals).evalf(2)"
   ]
  }
 ],
 "metadata": {
  "kernelspec": {
   "display_name": "Python 3",
   "language": "python",
   "name": "python3"
  },
  "language_info": {
   "codemirror_mode": {
    "name": "ipython",
    "version": 3
   },
   "file_extension": ".py",
   "mimetype": "text/x-python",
   "name": "python",
   "nbconvert_exporter": "python",
   "pygments_lexer": "ipython3",
   "version": "3.8.8"
  }
 },
 "nbformat": 4,
 "nbformat_minor": 5
}
