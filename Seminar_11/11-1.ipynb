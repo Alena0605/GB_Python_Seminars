{
 "cells": [
  {
   "cell_type": "markdown",
   "id": "eb1d34e9",
   "metadata": {},
   "source": [
    "### Исследовать функцию f(x) = 5x^2 + 10x - 30"
   ]
  },
  {
   "cell_type": "markdown",
   "id": "922bfb22",
   "metadata": {},
   "source": [
    "1. Определить корни\n",
    "2. Найти интервалы, на которых функция возрастает\n",
    "3. Найти интервалы, на которых функция убывает\n",
    "4. Построить график\n",
    "5. Вычислить вершину\n",
    "6. Определить промежутки, на которых f > 0\n",
    "7. Определить промежутки, на которых f < 0"
   ]
  },
  {
   "cell_type": "code",
   "execution_count": 1,
   "id": "d153f997",
   "metadata": {},
   "outputs": [],
   "source": [
    "from sympy import *\n",
    "from sympy.plotting import plot"
   ]
  },
  {
   "cell_type": "code",
   "execution_count": 2,
   "id": "eeb2dc0c",
   "metadata": {},
   "outputs": [
    {
     "data": {
      "text/latex": [
       "$\\displaystyle 5 x^{2} + 10 x - 30$"
      ],
      "text/plain": [
       "5*x**2 + 10*x - 30"
      ]
     },
     "execution_count": 2,
     "metadata": {},
     "output_type": "execute_result"
    }
   ],
   "source": [
    "x = Symbol(\"x\")\n",
    "f = 5 * x ** 2 + 10 * x - 30\n",
    "f"
   ]
  },
  {
   "cell_type": "code",
   "execution_count": 3,
   "id": "fc28fcde",
   "metadata": {},
   "outputs": [
    {
     "data": {
      "image/png": "[encoded data removed]",
      "text/plain": [
       "<Figure size 432x288 with 1 Axes>"
      ]
     },
     "metadata": {
      "needs_background": "light"
     },
     "output_type": "display_data"
    },
    {
     "data": {
      "text/plain": [
       "<sympy.plotting.plot.Plot at 0x13d3aec18b0>"
      ]
     },
     "execution_count": 3,
     "metadata": {},
     "output_type": "execute_result"
    }
   ],
   "source": [
    "plot(f, (x, -5, 2.5))"
   ]
  },
  {
   "cell_type": "code",
   "execution_count": 4,
   "id": "ab9f1a35",
   "metadata": {},
   "outputs": [
    {
     "data": {
      "text/latex": [
       "$\\displaystyle \\left\\{-1 + \\sqrt{7}, - \\sqrt{7} - 1\\right\\}$"
      ],
      "text/plain": [
       "FiniteSet(-1 + sqrt(7), -sqrt(7) - 1)"
      ]
     },
     "execution_count": 4,
     "metadata": {},
     "output_type": "execute_result"
    }
   ],
   "source": [
    "solveset(f)"
   ]
  },
  {
   "cell_type": "code",
   "execution_count": 5,
   "id": "5a1a3fa2",
   "metadata": {},
   "outputs": [
    {
     "data": {
      "text/plain": [
       "[-oo, -1, oo]"
      ]
     },
     "execution_count": 5,
     "metadata": {},
     "output_type": "execute_result"
    }
   ],
   "source": [
    "result = [-oo, oo]\n",
    "result[1:1] = solve(diff(f), x)\n",
    "result"
   ]
  },
  {
   "cell_type": "code",
   "execution_count": 6,
   "id": "bfa9ddd4",
   "metadata": {},
   "outputs": [
    {
     "name": "stdout",
     "output_type": "stream",
     "text": [
      "Функция возрастает на промежутке: ['-1, oo']\n",
      "Функция убывает на промежутке: ['-oo, -1']\n"
     ]
    }
   ],
   "source": [
    "res_increase = []\n",
    "res_decrease = []\n",
    "\n",
    "for i in range(1, len(result)):\n",
    "    if is_increasing(f, Interval.open(result[i - 1], result[i])):\n",
    "        res_increase.append(f\"{result[i - 1]}, {result[i]}\")\n",
    "    else:\n",
    "        res_decrease.append(f\"{result[i - 1]}, {result[i]}\")\n",
    "\n",
    "print(f\"Функция возрастает на промежутке: {res_increase}\")\n",
    "print(f\"Функция убывает на промежутке: {res_decrease}\")"
   ]
  },
  {
   "cell_type": "code",
   "execution_count": 7,
   "id": "c07aafc3",
   "metadata": {},
   "outputs": [
    {
     "name": "stdout",
     "output_type": "stream",
     "text": [
      "Точка минимума: -35\n"
     ]
    }
   ],
   "source": [
    "res_func = solve(diff(f), x)\n",
    "for i in res_func:\n",
    "    check = f.subs(x, i)\n",
    "    if check < 0:\n",
    "        print(f\"Точка минимума: {check}\")\n",
    "    elif check > 0:\n",
    "        print(f\"Точка максимума: {check}\")\n",
    "    else:\n",
    "        print(f\"{check}\")"
   ]
  },
  {
   "cell_type": "code",
   "execution_count": 8,
   "id": "9ad69cb5",
   "metadata": {},
   "outputs": [
    {
     "name": "stdout",
     "output_type": "stream",
     "text": [
      "f > 0: ['-oo, -1 + sqrt(7)', '-sqrt(7) - 1, oo']\n",
      "f < 0: ['-1 + sqrt(7), -sqrt(7) - 1']\n"
     ]
    }
   ],
   "source": [
    "result = [-oo, oo]\n",
    "result[1:1] = solve(f, x)\n",
    "\n",
    "less_0 = []\n",
    "more_0 = []\n",
    "\n",
    "for i in range(1, len(result)):\n",
    "    if is_increasing(f, Interval.open(result[i - 1], result[i])):\n",
    "        less_0.append(f\"{result[i - 1]}, {result[i]}\")\n",
    "    else:\n",
    "        more_0.append(f\"{result[i - 1]}, {result[i]}\")\n",
    "\n",
    "print(f\"f > 0: {more_0}\")\n",
    "print(f\"f < 0: {less_0}\")"
   ]
  }
 ],
 "metadata": {
  "kernelspec": {
   "display_name": "Python 3",
   "language": "python",
   "name": "python3"
  },
  "language_info": {
   "codemirror_mode": {
    "name": "ipython",
    "version": 3
   },
   "file_extension": ".py",
   "mimetype": "text/x-python",
   "name": "python",
   "nbconvert_exporter": "python",
   "pygments_lexer": "ipython3",
   "version": "3.8.8"
  }
 },
 "nbformat": 4,
 "nbformat_minor": 5
}
