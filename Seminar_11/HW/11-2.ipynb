{
 "cells": [
  {
   "cell_type": "code",
   "execution_count": 1,
   "id": "70cd19fb",
   "metadata": {},
   "outputs": [],
   "source": [
    "from sympy import *\n",
    "from sympy.plotting import plot"
   ]
  },
  {
   "cell_type": "markdown",
   "id": "1a0b8842",
   "metadata": {},
   "source": [
    "## Функция 2."
   ]
  },
  {
   "cell_type": "markdown",
   "id": "69552be3",
   "metadata": {},
   "source": [
    "### Исследуйте функцию  f(x) = 2x^3 + 2x^2 - 18x - 18"
   ]
  },
  {
   "cell_type": "markdown",
   "id": "fcf75006",
   "metadata": {},
   "source": [
    "1. Определить корни\n",
    "2. Найти интервалы, на которых функция возрастает\n",
    "3. Найти интервалы, на которых функция убывает\n",
    "4. Построить график\n",
    "5. Вычислить вершину\n",
    "6. Определить промежутки, на которых f > 0\n",
    "7. Определить промежутки, на которых f < 0"
   ]
  },
  {
   "cell_type": "code",
   "execution_count": 2,
   "id": "31a9e2ce",
   "metadata": {},
   "outputs": [
    {
     "data": {
      "text/latex": [
       "$\\displaystyle 2 x^{3} + 2 x^{2} - 18 x - 18$"
      ],
      "text/plain": [
       "2*x**3 + 2*x**2 - 18*x - 18"
      ]
     },
     "execution_count": 2,
     "metadata": {},
     "output_type": "execute_result"
    }
   ],
   "source": [
    "x = Symbol(\"x\")\n",
    "f = 2 * x ** 3 + 2 * x ** 2 - 18 * x - 18\n",
    "f"
   ]
  },
  {
   "cell_type": "markdown",
   "id": "8282ae3f",
   "metadata": {},
   "source": [
    "#### 1. Определить корни"
   ]
  },
  {
   "cell_type": "code",
   "execution_count": 3,
   "id": "a1be59a8",
   "metadata": {},
   "outputs": [
    {
     "data": {
      "text/latex": [
       "$\\displaystyle \\left\\{-3, -1, 3\\right\\}$"
      ],
      "text/plain": [
       "FiniteSet(-3, -1, 3)"
      ]
     },
     "execution_count": 3,
     "metadata": {},
     "output_type": "execute_result"
    }
   ],
   "source": [
    "solveset(f)"
   ]
  },
  {
   "cell_type": "markdown",
   "id": "6a1bdca3",
   "metadata": {},
   "source": [
    "#### 2. Найти интервалы, на которых функция возрастает\n",
    "#### 3. Найти интервалы, на которых функция убывает"
   ]
  },
  {
   "cell_type": "code",
   "execution_count": 4,
   "id": "738e5944",
   "metadata": {},
   "outputs": [
    {
     "name": "stdout",
     "output_type": "stream",
     "text": [
      "Функция возрастает на промежутке: ['-oo, -1/3 + 2*sqrt(7)/3', '-2*sqrt(7)/3 - 1/3, oo']\n",
      "Функция убывает на промежутке: ['-1/3 + 2*sqrt(7)/3, -2*sqrt(7)/3 - 1/3']\n"
     ]
    }
   ],
   "source": [
    "result = [-oo, oo]\n",
    "result[1:1] = solve(diff(f), x)\n",
    "\n",
    "res_increase = []\n",
    "res_decrease = []\n",
    "\n",
    "for i in range(1, len(result)):\n",
    "    if is_decreasing(f, Interval.open(result[i - 1], result[i])):\n",
    "        res_decrease.append(f\"{result[i - 1]}, {result[i]}\")\n",
    "    else:\n",
    "        res_increase.append(f\"{result[i - 1]}, {result[i]}\")\n",
    "\n",
    "print(f\"Функция возрастает на промежутке: {res_increase}\")\n",
    "print(f\"Функция убывает на промежутке: {res_decrease}\")"
   ]
  },
  {
   "cell_type": "markdown",
   "id": "908c469f",
   "metadata": {},
   "source": [
    "#### 4. Построить график"
   ]
  },
  {
   "cell_type": "code",
   "execution_count": 5,
   "id": "d158f7d8",
   "metadata": {},
   "outputs": [
    {
     "data": {
      "image/png": "[encoded data removed]",
      "text/plain": [
       "<Figure size 432x288 with 1 Axes>"
      ]
     },
     "metadata": {
      "needs_background": "light"
     },
     "output_type": "display_data"
    },
    {
     "data": {
      "text/plain": [
       "<sympy.plotting.plot.Plot at 0x1df501f9e20>"
      ]
     },
     "execution_count": 5,
     "metadata": {},
     "output_type": "execute_result"
    }
   ],
   "source": [
    "plot(f, (x, -4, 4))"
   ]
  },
  {
   "cell_type": "markdown",
   "id": "b8dba1bb",
   "metadata": {},
   "source": [
    "#### 5. Вычислить вершину"
   ]
  },
  {
   "cell_type": "markdown",
   "id": "78b24f37",
   "metadata": {},
   "source": [
    "У данной функции вершины нет. Найдены максимальные и минимальные точки."
   ]
  },
  {
   "cell_type": "code",
   "execution_count": 6,
   "id": "7c00d171",
   "metadata": {},
   "outputs": [
    {
     "name": "stdout",
     "output_type": "stream",
     "text": [
      "Точка максимума: (-1/3 + 2*sqrt(7)/3, -224*sqrt(7)/27 - 320/27)\n",
      "Точка минимума: (-2*sqrt(7)/3 - 1/3, -320/27 + 224*sqrt(7)/27)\n"
     ]
    }
   ],
   "source": [
    "result = [-oo, oo]\n",
    "result[1:1] = solve(diff(f), x)\n",
    "\n",
    "for i in range(1, len(result) - 1):\n",
    "    if is_decreasing(f, Interval.open(result[i - 1], result[i])):\n",
    "        print(f\"Точка минимума: ({result[i]}, {simplify(f.subs(x, result[i]))})\")\n",
    "    else:\n",
    "        print(f\"Точка максимума: ({result[i]}, {simplify(f.subs(x, result[i]))})\")"
   ]
  },
  {
   "cell_type": "markdown",
   "id": "d5d7db81",
   "metadata": {},
   "source": [
    "#### 6. Определить промежутки, на которых f > 0\n",
    "#### 7. Определить промежутки, на которых f < 0"
   ]
  },
  {
   "cell_type": "code",
   "execution_count": 7,
   "id": "61d83eda",
   "metadata": {},
   "outputs": [
    {
     "name": "stdout",
     "output_type": "stream",
     "text": [
      "f > 0: [-3, -1], [3, oo]\n",
      "f < 0: [-oo, -3], [-1, 3]\n"
     ]
    }
   ],
   "source": [
    "result = [-oo, oo]\n",
    "result[1:1] = solve(f)\n",
    "\n",
    "print(f\"f > 0: [-3, -1], [3, oo]\")\n",
    "print(f\"f < 0: [-oo, -3], [-1, 3]\")"
   ]
  }
 ],
 "metadata": {
  "kernelspec": {
   "display_name": "Python 3",
   "language": "python",
   "name": "python3"
  },
  "language_info": {
   "codemirror_mode": {
    "name": "ipython",
    "version": 3
   },
   "file_extension": ".py",
   "mimetype": "text/x-python",
   "name": "python",
   "nbconvert_exporter": "python",
   "pygments_lexer": "ipython3",
   "version": "3.8.8"
  }
 },
 "nbformat": 4,
 "nbformat_minor": 5
}
