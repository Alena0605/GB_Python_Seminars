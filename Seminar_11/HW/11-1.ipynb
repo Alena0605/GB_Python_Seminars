{
 "cells": [
  {
   "cell_type": "code",
   "execution_count": 1,
   "id": "1875f4b0",
   "metadata": {},
   "outputs": [],
   "source": [
    "from sympy import *\n",
    "from sympy.plotting import plot"
   ]
  },
  {
   "cell_type": "markdown",
   "id": "8a8c3cd1",
   "metadata": {},
   "source": [
    "## Функция 1."
   ]
  },
  {
   "cell_type": "markdown",
   "id": "8963f8c0",
   "metadata": {},
   "source": [
    "### Исследуйте функцию  f(x) = -18x^3 + 5x^2 + 10x - 30"
   ]
  },
  {
   "cell_type": "markdown",
   "id": "6122d809",
   "metadata": {},
   "source": [
    "1. Определить корни\n",
    "2. Найти интервалы, на которых функция возрастает\n",
    "3. Найти интервалы, на которых функция убывает\n",
    "4. Построить график\n",
    "5. Вычислить вершину\n",
    "6. Определить промежутки, на которых f > 0\n",
    "7. Определить промежутки, на которых f < 0"
   ]
  },
  {
   "cell_type": "code",
   "execution_count": 2,
   "id": "16a5592f",
   "metadata": {},
   "outputs": [
    {
     "data": {
      "text/latex": [
       "$\\displaystyle - 18 x^{3} + 5 x^{2} + 10 x - 30$"
      ],
      "text/plain": [
       "-18*x**3 + 5*x**2 + 10*x - 30"
      ]
     },
     "execution_count": 2,
     "metadata": {},
     "output_type": "execute_result"
    }
   ],
   "source": [
    "x = Symbol(\"x\")\n",
    "f = -18 * x ** 3 + 5 * x ** 2 + 10 * x - 30\n",
    "f"
   ]
  },
  {
   "cell_type": "markdown",
   "id": "70af63da",
   "metadata": {},
   "source": [
    "#### 1. Определить корни"
   ]
  },
  {
   "cell_type": "code",
   "execution_count": 3,
   "id": "1feb6eb9",
   "metadata": {},
   "outputs": [
    {
     "data": {
      "text/plain": [
       "[CRootOf(18*x**3 - 5*x**2 - 10*x + 30, 0)]"
      ]
     },
     "execution_count": 3,
     "metadata": {},
     "output_type": "execute_result"
    }
   ],
   "source": [
    "func_roots = real_roots(f)\n",
    "func_roots"
   ]
  },
  {
   "cell_type": "code",
   "execution_count": 4,
   "id": "cd53448e",
   "metadata": {},
   "outputs": [
    {
     "data": {
      "text/latex": [
       "$\\displaystyle -1.24457983246689$"
      ],
      "text/plain": [
       "-1.24457983246689"
      ]
     },
     "execution_count": 4,
     "metadata": {},
     "output_type": "execute_result"
    }
   ],
   "source": [
    "func_roots[0].n()"
   ]
  },
  {
   "cell_type": "markdown",
   "id": "fab5b5c3",
   "metadata": {},
   "source": [
    "#### 2. Найти интервалы, на которых функция возрастает\n",
    "#### 3. Найти интервалы, на которых функция убывает"
   ]
  },
  {
   "cell_type": "code",
   "execution_count": 5,
   "id": "e563e186",
   "metadata": {},
   "outputs": [
    {
     "name": "stdout",
     "output_type": "stream",
     "text": [
      "Функция возрастает на промежутке: ['5/54 - sqrt(565)/54, 5/54 + sqrt(565)/54']\n",
      "Функция убывает на промежутке: ['-oo, 5/54 - sqrt(565)/54', '5/54 + sqrt(565)/54, oo']\n"
     ]
    }
   ],
   "source": [
    "result = [-oo, oo]\n",
    "result[1:1] = solve(diff(f), x)\n",
    "\n",
    "res_increase = []\n",
    "res_decrease = []\n",
    "\n",
    "for i in range(1, len(result)):\n",
    "    if is_increasing(f, Interval.open(result[i - 1], result[i])):\n",
    "        res_increase.append(f\"{result[i - 1]}, {result[i]}\")\n",
    "    else:\n",
    "        res_decrease.append(f\"{result[i - 1]}, {result[i]}\")\n",
    "\n",
    "print(f\"Функция возрастает на промежутке: {res_increase}\")\n",
    "print(f\"Функция убывает на промежутке: {res_decrease}\")"
   ]
  },
  {
   "cell_type": "markdown",
   "id": "22ee1a0e",
   "metadata": {},
   "source": [
    "#### 4. Построить график"
   ]
  },
  {
   "cell_type": "code",
   "execution_count": 6,
   "id": "ada79ef1",
   "metadata": {},
   "outputs": [
    {
     "data": {
      "image/png": "[encoded data removed]",
      "text/plain": [
       "<Figure size 432x288 with 1 Axes>"
      ]
     },
     "metadata": {
      "needs_background": "light"
     },
     "output_type": "display_data"
    },
    {
     "data": {
      "text/plain": [
       "<sympy.plotting.plot.Plot at 0x22197cd4520>"
      ]
     },
     "execution_count": 6,
     "metadata": {},
     "output_type": "execute_result"
    }
   ],
   "source": [
    "plot(f, (x, -1, 1))"
   ]
  },
  {
   "cell_type": "markdown",
   "id": "b417bed1",
   "metadata": {},
   "source": [
    "#### 5. Вычислить вершину"
   ]
  },
  {
   "cell_type": "markdown",
   "id": "c27abdf2",
   "metadata": {},
   "source": [
    "У данной функции вершины нет. Найдены максимальные и минимальные точки."
   ]
  },
  {
   "cell_type": "code",
   "execution_count": 7,
   "id": "49df3b6f",
   "metadata": {},
   "outputs": [
    {
     "name": "stdout",
     "output_type": "stream",
     "text": [
      "Точка минимума: (5/54 - sqrt(565)/54, -127045/4374 - 565*sqrt(565)/4374)\n",
      "Точка максимума: (5/54 + sqrt(565)/54, -127045/4374 + 565*sqrt(565)/4374)\n"
     ]
    }
   ],
   "source": [
    "result = [-oo, oo]\n",
    "result[1:1] = solve(diff(f), x)\n",
    "\n",
    "for i in range(1, len(result) - 1):\n",
    "    if is_increasing(f, Interval.open(result[i - 1], result[i])) and is_decreasing(f, Interval.open(result[i], result[i + 1])):\n",
    "        print(f\"Точка максимума: ({result[i]}, {simplify(f.subs(x, result[i]))})\")\n",
    "    elif is_decreasing(f, Interval.open(result[i - 1], result[i])) and is_increasing(f, Interval.open(result[i], result[i + 1])):\n",
    "        print(f\"Точка минимума: ({result[i]}, {simplify(f.subs(x, result[i]))})\")"
   ]
  },
  {
   "cell_type": "markdown",
   "id": "7fe0869b",
   "metadata": {},
   "source": [
    "#### 6. Определить промежутки, на которых f > 0\n",
    "#### 7. Определить промежутки, на которых f < 0"
   ]
  },
  {
   "cell_type": "code",
   "execution_count": 8,
   "id": "db1df2a7",
   "metadata": {},
   "outputs": [
    {
     "name": "stdout",
     "output_type": "stream",
     "text": [
      "f > 0: ['-oo, -1.24457983246689']\n",
      "f < 0: ['-1.24457983246689, oo']\n"
     ]
    }
   ],
   "source": [
    "result = [-oo, oo]\n",
    "result[1:1] = [func_roots[0].n()]\n",
    "\n",
    "less_0 = []\n",
    "more_0 = []\n",
    "\n",
    "for i in range(1, len(result)):\n",
    "    if is_decreasing(f, Interval.open(result[i - 1], result[i])):\n",
    "        more_0.append(f\"{result[i - 1]}, {result[i]}\")\n",
    "    else:\n",
    "        less_0.append(f\"{result[i - 1]}, {result[i]}\")\n",
    "\n",
    "print(f\"f > 0: {more_0}\")\n",
    "print(f\"f < 0: {less_0}\")"
   ]
  }
 ],
 "metadata": {
  "kernelspec": {
   "display_name": "Python 3",
   "language": "python",
   "name": "python3"
  },
  "language_info": {
   "codemirror_mode": {
    "name": "ipython",
    "version": 3
   },
   "file_extension": ".py",
   "mimetype": "text/x-python",
   "name": "python",
   "nbconvert_exporter": "python",
   "pygments_lexer": "ipython3",
   "version": "3.8.8"
  }
 },
 "nbformat": 4,
 "nbformat_minor": 5
}
